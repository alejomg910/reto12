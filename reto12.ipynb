{
 "cells": [
  {
   "cell_type": "markdown",
   "metadata": {},
   "source": [
    "1. Desarrollar un algoritmo que imprima de manera ascendente los valores (todos del mismo tipo) de un diccionario."
   ]
  },
  {
   "cell_type": "code",
   "execution_count": 1,
   "metadata": {},
   "outputs": [
    {
     "name": "stdout",
     "output_type": "stream",
     "text": [
      "{3: 'Jhon Lucumi', 4: 'Santiago Arias', 6: 'Richard Rios', 7: 'Luis Diaz', 10: 'James Rodriguez', 11: 'Jhon Arias', 12: 'Camilo Vargas', 13: 'Yerry Mina', 17: 'Johan Mojica', 21: 'Daniel Muñoz', 23: 'Davinson Sanchez'}\n"
     ]
    }
   ],
   "source": [
    "jugadores = { #Creamos el diccionario\n",
    "    12: \"Camilo Vargas\",\n",
    "    23: \"Davinson Sanchez\",\n",
    "    3: \"Jhon Lucumi\",\n",
    "    13: \"Yerry Mina\",\n",
    "    17: \"Johan Mojica\",\n",
    "    21: \"Daniel Muñoz\",\n",
    "    4: \"Santiago Arias\",\n",
    "    6: \"Richard Rios\",\n",
    "    10: \"James Rodriguez\",\n",
    "    7: \"Luis Diaz\",\n",
    "    11: \"Jhon Arias\"\n",
    "}\n",
    "\n",
    "ordenados = dict(sorted(jugadores.items())) #Creamos uno nuevo pero ahora los vamos a ordenar\n",
    "print(ordenados) #imprimimos el diccionario ya ordenado"
   ]
  },
  {
   "cell_type": "markdown",
   "metadata": {},
   "source": [
    "---"
   ]
  },
  {
   "cell_type": "markdown",
   "metadata": {},
   "source": [
    "2. Desarrollar una funcion que reciba dos diccionarios como par�ametros y los mezcle, es decir, que se construya un nuevo diccionario con las llaves de los dos diccionarios; si hay una clave repetida en ambos diccionarios, se debe asignar el valor que tenga la clave en el primer diccionario."
   ]
  },
  {
   "cell_type": "code",
   "execution_count": 2,
   "metadata": {},
   "outputs": [
    {
     "name": "stdout",
     "output_type": "stream",
     "text": [
      "{1: 'Bulbasaur', 4: 'Charmander', 8: 'Squirtle'}\n",
      "{152: 'Chikorita', 155: 'Cyndaquil', 158: 'Totodile', 1: 'Charizard'}\n",
      "{1: 'Bulbasaur', 4: 'Charmander', 8: 'Squirtle', 152: 'Chikorita', 155: 'Cyndaquil', 158: 'Totodile'}\n"
     ]
    }
   ],
   "source": [
    "def mezclar_diccionarios (dict1, dict2): #Creamos la funcion para mezclar diccionarios\n",
    "    \n",
    "    dict3 = dict1.copy() #Hacemos una copia del primer diccionario para que esten todas las claves y valores\n",
    "    for llave, valor in dict2.items(): #Creamos un bucle que recorra los items del segundo diccionario\n",
    "        if llave not in dict3: #Si la llave del segundo no esta en el primer diccionario, la añadimos\n",
    "            dict3[llave] = valor\n",
    "    \n",
    "    return dict3 #Devuelve el diccionario ya mezclado\n",
    "\n",
    "\n",
    "if __name__ == \"__main__\": #Llamamos a la funcion principal\n",
    "    dict1 = {1:\"Bulbasaur\", 4:\"Charmander\", 8:\"Squirtle\"} #Primer diccionario\n",
    "    dict2 = {152: \"Chikorita\", 155: \"Cyndaquil\", 158: \"Totodile\", 1:\"Charizard\"} #Segundo diccionario (Notese que aqui charizard tiene llave 1 igual que charmander)\n",
    "    dict_r = mezclar_diccionarios(dict1, dict2) #llamamos a la funcion\n",
    "    \n",
    "    print(dict1) #Imprimimos el primer diccionario\n",
    "    print(dict2) #Imprimimos el segundo diccionario\n",
    "    print(dict_r) #Imprimimos el resultado\n"
   ]
  },
  {
   "cell_type": "markdown",
   "metadata": {},
   "source": [
    "---"
   ]
  },
  {
   "cell_type": "markdown",
   "metadata": {},
   "source": [
    "3. Dado el JSON:\n",
    "```JSON\n",
    "{\n",
    "\t\"jadiazcoronado\":{\n",
    "\t\t\"nombres\": \"Juan Antonio\",\n",
    "\t\t\"apellidos\": \"D\u0013\u0010az Coronado\",\n",
    "\t\t\"edad\":19,\n",
    "\t\t\"colombiano\":true,\n",
    "\t\t\"deportes\":[\"F\u0013utbol\",\"Ajedrez\",\"Gimnasia\"]\n",
    "\t},\n",
    "\t\"dmlunasol\":{\n",
    "\t\t\"nombres\": \"Dorotea Maritza\",\n",
    "\t\t\"apellidos\": \"Luna Sol\",\n",
    "\t\t\"edad\":25,\n",
    "\t\t\"colombiano\":false,\n",
    "\t\t\"deportes\":[\"Baloncesto\",\"Ajedrez\",\"Gimnasia\"]\n",
    "\t}\n",
    "}\n",
    "```\n",
    " Cree un programa que lea de un archivo con dicho JSON y: \n",
    " - Imprima los nombres completos (nombre y apellidos) de las personas que practican el deporte ingresado por el usuario.\n",
    " - Imprima los nombres completos (nombre y apellidos) de las personas que est\u0013en en un rango de edades dado por el usuario."
   ]
  },
  {
   "cell_type": "code",
   "execution_count": 3,
   "metadata": {},
   "outputs": [
    {
     "name": "stdout",
     "output_type": "stream",
     "text": [
      "\n",
      "Personas que practican Gimnasia:\n",
      "Juan Antonio D��az Coronado\n",
      "Dorotea Maritza Luna Sol\n",
      "\n",
      "Personas en el rango de edad entre 19 y 25:\n",
      "Juan Antonio D��az Coronado\n",
      "Dorotea Maritza Luna Sol\n"
     ]
    }
   ],
   "source": [
    "import json #Importamos json\n",
    "\n",
    "def leer_json(nombre_archivo): #Funcion para leer el archivo\n",
    "    with open(nombre_archivo, 'r', encoding='utf-8') as archivo:\n",
    "        return json.load(archivo)\n",
    "\n",
    "def personas_por_deporte(datos, deporte): #Funcion para imprimir a las personas que practiquen el deporte dado\n",
    "    print(f\"\\nPersonas que practican {deporte}:\")\n",
    "    for persona, info in datos.items():\n",
    "        if deporte in info['deportes']:\n",
    "            print(f\"{info['nombres']} {info['apellidos']}\")\n",
    "\n",
    "def personas_por_edad(datos, edad_min, edad_max): #Funcion para el rango de edades\n",
    "    print(f\"\\nPersonas en el rango de edad entre {edad_min} y {edad_max}:\")\n",
    "    for persona, info in datos.items():\n",
    "        if edad_min <= info['edad'] <= edad_max:\n",
    "            print(f\"{info['nombres']} {info['apellidos']}\")\n",
    "\n",
    "if __name__ == \"__main__\": #Llamamos a la funcion principal\n",
    "    archivo_json = r'C:\\Users\\ASUS\\Documents\\Segundo semestre\\Programacion\\reto12\\personas.json' #Ruta del archivo json\n",
    "    datos = leer_json(archivo_json) #Leemos el archivo\n",
    "    deporte = input(\"Ingresa el deporte: \").strip() #Ingreso del deporte por consola\n",
    "    edad_min = int(input(\"Ingresa la edad mínima: \")) #Edad minima del rango\n",
    "    edad_max = int(input(\"Ingresa la edad máxima: \")) #edad maxima del rango\n",
    "    personas_por_deporte(datos, deporte) #llamamos ala funcion que imprime las personas por deporte\n",
    "    personas_por_edad(datos, edad_min, edad_max) #llamamos ala funcion que imprime las personas por rango de edad\n"
   ]
  },
  {
   "cell_type": "markdown",
   "metadata": {},
   "source": [
    "---"
   ]
  },
  {
   "cell_type": "markdown",
   "metadata": {},
   "source": [
    "4. El siguiente código contiene un JSON con el pronostivo detallado del clima para 8 días:\n",
    "\n",
    "```python\n",
    "import json\n",
    "\n",
    "# Cargar archivo\n",
    "jsonString = '''\n",
    "{\\\"dt\\\": {\\\"0\\\": 1685116800, \\\"1\\\": 1685203200, \\\"2\\\": 1685289600, \\\"3\\\": 1685376000, \\\"4\\\": 1685462400, \\\"5\\\": 1685548800, \\\"6\\\": 1685635200, \\\"7\\\": 1685721600}, \\\"sunrise\\\": {\\\"0\\\": 1685097348, \\\"1\\\": 1685183745, \\\"2\\\": 1685270143, \\\"3\\\": 1685356542, \\\"4\\\": 1685442942, \\\"5\\\": 1685529342, \\\"6\\\": 1685615743, \\\"7\\\": 1685702145}, \\\"sunset\\\": {\\\"0\\\": 1685143042, \\\"1\\\": 1685229458, \\\"2\\\": 1685315875, \\\"3\\\": 1685402291, \\\"4\\\": 1685488708, \\\"5\\\": 1685575124, \\\"6\\\": 1685661541, \\\"7\\\": 1685747958}, \\\"moonrise\\\": {\\\"0\\\": 1685118300, \\\"1\\\": 1685207460, \\\"2\\\": 1685296620, \\\"3\\\": 1685385720, \\\"4\\\": 1685474880, \\\"5\\\": 1685564220, \\\"6\\\": 1685653740, \\\"7\\\": 1685743500}, \\\"moonset\\\": {\\\"0\\\": 0, \\\"1\\\": 1685164320, \\\"2\\\": 1685253000, \\\"3\\\": 1685341560, \\\"4\\\": 1685430120, \\\"5\\\": 1685518740, \\\"6\\\": 1685607600, \\\"7\\\": 1685696640}, \\\"moon_phase\\\": {\\\"0\\\": 0.22, \\\"1\\\": 0.25, \\\"2\\\": 0.28, \\\"3\\\": 0.31, \\\"4\\\": 0.35, \\\"5\\\": 0.38, \\\"6\\\": 0.41, \\\"7\\\": 0.45}, \\\"pressure\\\": {\\\"0\\\": 1011, \\\"1\\\": 1012, \\\"2\\\": 1012, \\\"3\\\": 1012, \\\"4\\\": 1012, \\\"5\\\": 1012, \\\"6\\\": 1012, \\\"7\\\": 1011}, \\\"humidity\\\": {\\\"0\\\": 85, \\\"1\\\": 61, \\\"2\\\": 68, \\\"3\\\": 74, \\\"4\\\": 84, \\\"5\\\": 66, \\\"6\\\": 81, \\\"7\\\": 82}, \\\"dew_point\\\": {\\\"0\\\": 23.93, \\\"1\\\": 22.5, \\\"2\\\": 23.67, \\\"3\\\": 23.35, \\\"4\\\": 24.22, \\\"5\\\": 22.73, \\\"6\\\": 23.18, \\\"7\\\": 22.93}, \\\"velViento\\\": {\\\"0\\\": 3.56, \\\"1\\\": 5.07, \\\"2\\\": 5.38, \\\"3\\\": 3.95, \\\"4\\\": 4.74, \\\"5\\\": 3.75, \\\"6\\\": 4.08, \\\"7\\\": 5.94}, \\\"dirViento\\\": {\\\"0\\\": 188, \\\"1\\\": 14, \\\"2\\\": 21, \\\"3\\\": 23, \\\"4\\\": 40, \\\"5\\\": 330, \\\"6\\\": 176, \\\"7\\\": 168}, \\\"wind_gust\\\": {\\\"0\\\": 6.47, \\\"1\\\": 8.86, \\\"2\\\": 8.95, \\\"3\\\": 6.12, \\\"4\\\": 7.17, \\\"5\\\": 5.4, \\\"6\\\": 5.13, \\\"7\\\": 9.67}, \\\"weather\\\": {\\\"0\\\": [{\\\"id\\\": 501, \\\"main\\\": \\\"Rain\\\", \\\"description\\\": \\\"lluvia moderada\\\", \\\"icon\\\": \\\"10d\\\"}], \\\"1\\\": [{\\\"id\\\": 500, \\\"main\\\": \\\"Rain\\\", \\\"description\\\": \\\"lluvia ligera\\\", \\\"icon\\\": \\\"10d\\\"}], \\\"2\\\": [{\\\"id\\\": 501, \\\"main\\\": \\\"Rain\\\", \\\"description\\\": \\\"lluvia moderada\\\", \\\"icon\\\": \\\"10d\\\"}], \\\"3\\\": [{\\\"id\\\": 500, \\\"main\\\": \\\"Rain\\\", \\\"description\\\": \\\"lluvia ligera\\\", \\\"icon\\\": \\\"10d\\\"}], \\\"4\\\": [{\\\"id\\\": 501, \\\"main\\\": \\\"Rain\\\", \\\"description\\\": \\\"lluvia moderada\\\", \\\"icon\\\": \\\"10d\\\"}], \\\"5\\\": [{\\\"id\\\": 500, \\\"main\\\": \\\"Rain\\\", \\\"description\\\": \\\"lluvia ligera\\\", \\\"icon\\\": \\\"10d\\\"}], \\\"6\\\": [{\\\"id\\\": 500, \\\"main\\\": \\\"Rain\\\", \\\"description\\\": \\\"lluvia ligera\\\", \\\"icon\\\": \\\"10d\\\"}], \\\"7\\\": [{\\\"id\\\": 500, \\\"main\\\": \\\"Rain\\\", \\\"description\\\": \\\"lluvia ligera\\\", \\\"icon\\\": \\\"10d\\\"}]}, \\\"clouds\\\": {\\\"0\\\": 100, \\\"1\\\": 82, \\\"2\\\": 99, \\\"3\\\": 100, \\\"4\\\": 100, \\\"5\\\": 59, \\\"6\\\": 100, \\\"7\\\": 100}, \\\"pop\\\": {\\\"0\\\": 1.0, \\\"1\\\": 0.65, \\\"2\\\": 0.98, \\\"3\\\": 0.86, \\\"4\\\": 1.0, \\\"5\\\": 0.62, \\\"6\\\": 0.93, \\\"7\\\": 0.95}, \\\"prcp\\\": {\\\"0\\\": 40.0, \\\"1\\\": 1.65, \\\"2\\\": 14.01, \\\"3\\\": 5.07, \\\"4\\\": 16.55, \\\"5\\\": 2.17, \\\"6\\\": 2.77, \\\"7\\\": 1.73}, \\\"uvi\\\": {\\\"0\\\": 10.14, \\\"1\\\": 12.78, \\\"2\\\": 12.73, \\\"3\\\": 8.44, \\\"4\\\": 0.59, \\\"5\\\": 1.0, \\\"6\\\": 1.0, \\\"7\\\": 1.0}, \\\"temp.day\\\": {\\\"0\\\": 26.62, \\\"1\\\": 30.95, \\\"2\\\": 30.17, \\\"3\\\": 28.37, \\\"4\\\": 27.22, \\\"5\\\": 29.78, \\\"6\\\": 26.83, \\\"7\\\": 26.36}, \\\"tmpMin\\\": {\\\"0\\\": 25.64, \\\"1\\\": 24.64, \\\"2\\\": 25.84, \\\"3\\\": 25.56, \\\"4\\\": 25.72, \\\"5\\\": 24.86, \\\"6\\\": 25.96, \\\"7\\\": 25.47}, \\\"tmpMax\\\": {\\\"0\\\": 27.16, \\\"1\\\": 31.1, \\\"2\\\": 30.2, \\\"3\\\": 29.5, \\\"4\\\": 28.87, \\\"5\\\": 29.78, \\\"6\\\": 28.96, \\\"7\\\": 28.25}, \\\"temp.night\\\": {\\\"0\\\": 25.67, \\\"1\\\": 27.39, \\\"2\\\": 26.24, \\\"3\\\": 27.2, \\\"4\\\": 25.92, \\\"5\\\": 27.14, \\\"6\\\": 26.56, \\\"7\\\": 25.66}, \\\"temp.eve\\\": {\\\"0\\\": 25.91, \\\"1\\\": 28.73, \\\"2\\\": 27.42, \\\"3\\\": 28.27, \\\"4\\\": 27.94, \\\"5\\\": 29.29, \\\"6\\\": 28.96, \\\"7\\\": 28.12}, \\\"temp.morn\\\": {\\\"0\\\": 26.5, \\\"1\\\": 24.64, \\\"2\\\": 26.13, \\\"3\\\": 25.72, \\\"4\\\": 26.04, \\\"5\\\": 24.86, \\\"6\\\": 25.98, \\\"7\\\": 25.57}, \\\"feels_like.day\\\": {\\\"0\\\": 26.62, \\\"1\\\": 34.99, \\\"2\\\": 34.96, \\\"3\\\": 32.03, \\\"4\\\": 30.67, \\\"5\\\": 33.62, \\\"6\\\": 29.45, \\\"7\\\": 26.36}, \\\"feels_like.night\\\": {\\\"0\\\": 26.56, \\\"1\\\": 30.98, \\\"2\\\": 26.24, \\\"3\\\": 30.62, \\\"4\\\": 26.84, \\\"5\\\": 30.16, \\\"6\\\": 26.56, \\\"7\\\": 26.45}, \\\"feels_like.eve\\\": {\\\"0\\\": 26.85, \\\"1\\\": 32.49, \\\"2\\\": 30.94, \\\"3\\\": 31.8, \\\"4\\\": 31.51, \\\"5\\\": 33.17, \\\"6\\\": 32.64, \\\"7\\\": 31.18}, \\\"feels_like.morn\\\": {\\\"0\\\": 26.5, \\\"1\\\": 25.48, \\\"2\\\": 26.13, \\\"3\\\": 26.62, \\\"4\\\": 26.04, \\\"5\\\": 25.73, \\\"6\\\": 25.98, \\\"7\\\": 26.4}, \\\"date\\\": {\\\"0\\\": 1685098800000, \\\"1\\\": 1685185200000, \\\"2\\\": 1685271600000, \\\"3\\\": 1685358000000, \\\"4\\\": 1685444400000, \\\"5\\\": 1685530800000, \\\"6\\\": 1685617200000, \\\"7\\\": 1685703600000}, \\\"main\\\": {\\\"0\\\": \\\"Rain\\\", \\\"1\\\": \\\"Rain\\\", \\\"2\\\": \\\"Rain\\\", \\\"3\\\": \\\"Rain\\\", \\\"4\\\": \\\"Rain\\\", \\\"5\\\": \\\"Rain\\\", \\\"6\\\": \\\"Rain\\\", \\\"7\\\": \\\"Rain\\\"}, \\\"description\\\": {\\\"0\\\": \\\"lluvia moderada\\\", \\\"1\\\": \\\"lluvia ligera\\\", \\\"2\\\": \\\"lluvia moderada\\\", \\\"3\\\": \\\"lluvia ligera\\\", \\\"4\\\": \\\"lluvia moderada\\\", \\\"5\\\": \\\"lluvia ligera\\\", \\\"6\\\": \\\"lluvia ligera\\\", \\\"7\\\": \\\"lluvia ligera\\\"}, \\\"icono\\\": {\\\"0\\\": \\\"10d\\\", \\\"1\\\": \\\"10d\\\", \\\"2\\\": \\\"10d\\\", \\\"3\\\": \\\"10d\\\", \\\"4\\\": \\\"10d\\\", \\\"5\\\": \\\"10d\\\", \\\"6\\\": \\\"10d\\\", \\\"7\\\": \\\"10d\\\"}, \\\"alertPrecip\\\": {\\\"0\\\": \\\"X\\\", \\\"1\\\": \\\"-\\\", \\\"2\\\": \\\"-\\\", \\\"3\\\": \\\"-\\\", \\\"4\\\": \\\"-\\\", \\\"5\\\": \\\"-\\\", \\\"6\\\": \\\"-\\\", \\\"7\\\": \\\"-\\\"}, \\\"alertAlertas\\\": {\\\"0\\\": \\\"-\\\", \\\"1\\\": \\\"-\\\", \\\"2\\\": \\\"-\\\", \\\"3\\\": \\\"-\\\", \\\"4\\\": \\\"-\\\", \\\"5\\\": \\\"-\\\", \\\"6\\\": \\\"-\\\", \\\"7\\\": \\\"-\\\"}, \\\"alertVelViento\\\": {\\\"0\\\": \\\"-\\\", \\\"1\\\": \\\"-\\\", \\\"2\\\": \\\"X\\\", \\\"3\\\": \\\"-\\\", \\\"4\\\": \\\"-\\\", \\\"5\\\": \\\"-\\\", \\\"6\\\": \\\"-\\\", \\\"7\\\": \\\"-\\\"}, \\\"alertTmpMax\\\": {\\\"0\\\": \\\"-\\\", \\\"1\\\": \\\"-\\\", \\\"2\\\": \\\"-\\\", \\\"3\\\": \\\"-\\\", \\\"4\\\": \\\"-\\\", \\\"5\\\": \\\"X\\\", \\\"6\\\": \\\"-\\\", \\\"7\\\": \\\"-\\\"}, \\\"alertTmpMin\\\": {\\\"0\\\": \\\"-\\\", \\\"1\\\": \\\"X\\\", \\\"2\\\": \\\"-\\\", \\\"3\\\": \\\"-\\\", \\\"4\\\": \\\"-\\\", \\\"5\\\": \\\"-\\\", \\\"6\\\": \\\"-\\\", \\\"7\\\": \\\"-\\\"}, \\\"recomendaciones\\\": {\\\"lluvias\\\": \\\"Realice una revisi\\\\u00f3n y limpieza a la red de desague y canales existentes ENTER8 Cuente con una estaci\\\\u00f3n de bombeo, que debe estar ubicada en el punto m\\\\u00e1s bajo del predio. Aseg\\\\u00farese de encender y probar el sistema de bombeo al menos una vez al mes y hacer un mantenimiento mensual al equipo de bombeoENTER8 Los productos alojados en zonas de almacenamiento deben mantenersen sobre estibas - estanterias, con el fin de que no entren en contacto directo con el agua.\\\", \\\"vientos\\\": \\\"-\\\", \\\"temperatura\\\": \\\"-\\\"}}\n",
    "'''\n",
    "data = json.loads(jsonString)\n",
    "```\n",
    "\n",
    "Revise los campos: 'alertAlertas', 'alertPrecip', 'alertTmpMax', 'alertTmpMin', 'alertVelViento'. Para cada uno identifique si se presentan alertas ({0: x} indica que el día 0 habra un fenomeno de la alerta en cuestión, {1:\"-\"} indica que no habrá ningun fenomeno climatico). En caso que se presente una alerta obtenga la fecha del campo 'dt' ([aquí](https://stackoverflow.com/questions/3682748/converting-unix-timestamp-string-to-readable-date) pueden revisar como se convierte de UTC a fecha), así como los parametros relevantes del evento (e.g. si es un fenomeno de lluvias, busqye el nivel de lluvia, si es vientos, la velocidad del viuento). Al final deberá imprimir las fechas de alerta, el tipo de alerta y las variables asociadas.\n"
   ]
  },
  {
   "cell_type": "code",
   "execution_count": 4,
   "metadata": {},
   "outputs": [
    {
     "name": "stdout",
     "output_type": "stream",
     "text": [
      "Fecha: 2023-05-26 16:00:00, Tipo de alerta: precipitación, Valor: X, prcp: 40.0\n",
      "Fecha: 2023-05-27 16:00:00, Tipo de alerta: temperatura mínima, Valor: X, tmpMin: 24.64\n",
      "Fecha: 2023-05-28 16:00:00, Tipo de alerta: viento, Valor: X, velViento: 5.38\n",
      "Fecha: 2023-05-31 16:00:00, Tipo de alerta: temperatura máxima, Valor: X, tmpMax: 29.78\n"
     ]
    },
    {
     "name": "stderr",
     "output_type": "stream",
     "text": [
      "C:\\Users\\ASUS\\AppData\\Local\\Temp\\ipykernel_7212\\2377632851.py:50: DeprecationWarning: datetime.datetime.utcfromtimestamp() is deprecated and scheduled for removal in a future version. Use timezone-aware objects to represent datetimes in UTC: datetime.datetime.fromtimestamp(timestamp, datetime.UTC).\n",
      "  return datetime.utcfromtimestamp(timestamp).strftime('%Y-%m-%d %H:%M:%S')\n"
     ]
    }
   ],
   "source": [
    "import json #Importamos json\n",
    "from datetime import datetime #Importamosdatetime para la conversion de utc a fecha\n",
    "\n",
    "#Archivo\n",
    "jsonString = '''\n",
    "{\n",
    "    \"dt\": {\"0\": 1685116800, \"1\": 1685203200, \"2\": 1685289600, \"3\": 1685376000, \"4\": 1685462400, \"5\": 1685548800, \"6\": 1685635200, \"7\": 1685721600},\n",
    "    \"sunrise\": {\"0\": 1685097348, \"1\": 1685183745, \"2\": 1685270143, \"3\": 1685356542, \"4\": 1685442942, \"5\": 1685529342, \"6\": 1685615743, \"7\": 1685702145},\n",
    "    \"sunset\": {\"0\": 1685143042, \"1\": 1685229458, \"2\": 1685315875, \"3\": 1685402291, \"4\": 1685488708, \"5\": 1685575124, \"6\": 1685661541, \"7\": 1685747958},\n",
    "    \"moonrise\": {\"0\": 1685118300, \"1\": 1685207460, \"2\": 1685296620, \"3\": 1685385720, \"4\": 1685474880, \"5\": 1685564220, \"6\": 1685653740, \"7\": 1685743500},\n",
    "    \"moonset\": {\"0\": 0, \"1\": 1685164320, \"2\": 1685253000, \"3\": 1685341560, \"4\": 1685430120, \"5\": 1685518740, \"6\": 1685607600, \"7\": 1685696640},\n",
    "    \"moon_phase\": {\"0\": 0.22, \"1\": 0.25, \"2\": 0.28, \"3\": 0.31, \"4\": 0.35, \"5\": 0.38, \"6\": 0.41, \"7\": 0.45},\n",
    "    \"pressure\": {\"0\": 1011, \"1\": 1012, \"2\": 1012, \"3\": 1012, \"4\": 1012, \"5\": 1012, \"6\": 1012, \"7\": 1011},\n",
    "    \"humidity\": {\"0\": 85, \"1\": 61, \"2\": 68, \"3\": 74, \"4\": 84, \"5\": 66, \"6\": 81, \"7\": 82},\n",
    "    \"dew_point\": {\"0\": 23.93, \"1\": 22.5, \"2\": 23.67, \"3\": 23.35, \"4\": 24.22, \"5\": 22.73, \"6\": 23.18, \"7\": 22.93},\n",
    "    \"velViento\": {\"0\": 3.56, \"1\": 5.07, \"2\": 5.38, \"3\": 3.95, \"4\": 4.74, \"5\": 3.75, \"6\": 4.08, \"7\": 5.94},\n",
    "    \"dirViento\": {\"0\": 188, \"1\": 14, \"2\": 21, \"3\": 23, \"4\": 40, \"5\": 330, \"6\": 176, \"7\": 168},\n",
    "    \"wind_gust\": {\"0\": 6.47, \"1\": 8.86, \"2\": 8.95, \"3\": 6.12, \"4\": 7.17, \"5\": 5.4, \"6\": 5.13, \"7\": 9.67},\n",
    "    \"weather\": {\"0\": [{\"id\": 501, \"main\": \"Rain\", \"description\": \"lluvia moderada\", \"icon\": \"10d\"}], \"1\": [{\"id\": 500, \"main\": \"Rain\", \"description\": \"lluvia ligera\", \"icon\": \"10d\"}], \"2\": [{\"id\": 501, \"main\": \"Rain\", \"description\": \"lluvia moderada\", \"icon\": \"10d\"}], \"3\": [{\"id\": 500, \"main\": \"Rain\", \"description\": \"lluvia ligera\", \"icon\": \"10d\"}], \"4\": [{\"id\": 501, \"main\": \"Rain\", \"description\": \"lluvia moderada\", \"icon\": \"10d\"}], \"5\": [{\"id\": 500, \"main\": \"Rain\", \"description\": \"lluvia ligera\", \"icon\": \"10d\"}], \"6\": [{\"id\": 500, \"main\": \"Rain\", \"description\": \"lluvia ligera\", \"icon\": \"10d\"}], \"7\": [{\"id\": 500, \"main\": \"Rain\", \"description\": \"lluvia ligera\", \"icon\": \"10d\"}]},\n",
    "    \"clouds\": {\"0\": 100, \"1\": 82, \"2\": 99, \"3\": 100, \"4\": 100, \"5\": 59, \"6\": 100, \"7\": 100},\n",
    "    \"pop\": {\"0\": 1.0, \"1\": 0.65, \"2\": 0.98, \"3\": 0.86, \"4\": 1.0, \"5\": 0.62, \"6\": 0.93, \"7\": 0.95},\n",
    "    \"prcp\": {\"0\": 40.0, \"1\": 1.65, \"2\": 14.01, \"3\": 5.07, \"4\": 16.55, \"5\": 2.17, \"6\": 2.77, \"7\": 1.73},\n",
    "    \"uvi\": {\"0\": 10.14, \"1\": 12.78, \"2\": 12.73, \"3\": 8.44, \"4\": 0.59, \"5\": 1.0, \"6\": 1.0, \"7\": 1.0},\n",
    "    \"temp.day\": {\"0\": 26.62, \"1\": 30.95, \"2\": 30.17, \"3\": 28.37, \"4\": 27.22, \"5\": 29.78, \"6\": 26.83, \"7\": 26.36},\n",
    "    \"tmpMin\": {\"0\": 25.64, \"1\": 24.64, \"2\": 25.84, \"3\": 25.56, \"4\": 25.72, \"5\": 24.86, \"6\": 25.96, \"7\": 25.47},\n",
    "    \"tmpMax\": {\"0\": 27.16, \"1\": 31.1, \"2\": 30.2, \"3\": 29.5, \"4\": 28.87, \"5\": 29.78, \"6\": 28.96, \"7\": 28.25},\n",
    "    \"temp.night\": {\"0\": 25.67, \"1\": 27.39, \"2\": 26.24, \"3\": 27.2, \"4\": 25.92, \"5\": 27.14, \"6\": 26.56, \"7\": 25.66},\n",
    "    \"temp.eve\": {\"0\": 25.91, \"1\": 28.73, \"2\": 27.42, \"3\": 28.27, \"4\": 27.94, \"5\": 29.29, \"6\": 28.96, \"7\": 28.12},\n",
    "    \"temp.morn\": {\"0\": 26.5, \"1\": 24.64, \"2\": 26.13, \"3\": 25.72, \"4\": 26.04, \"5\": 24.86, \"6\": 25.98, \"7\": 25.57},\n",
    "    \"feels_like.day\": {\"0\": 26.62, \"1\": 34.99, \"2\": 34.96, \"3\": 32.03, \"4\": 30.67, \"5\": 33.62, \"6\": 29.45, \"7\": 26.36},\n",
    "    \"feels_like.night\": {\"0\": 26.56, \"1\": 30.98, \"2\": 26.24, \"3\": 30.62, \"4\": 26.84, \"5\": 30.16, \"6\": 26.56, \"7\": 26.45},\n",
    "    \"feels_like.eve\": {\"0\": 26.85, \"1\": 32.49, \"2\": 30.94, \"3\": 31.8, \"4\": 31.51, \"5\": 33.17, \"6\": 32.64, \"7\": 31.18},\n",
    "    \"feels_like.morn\": {\"0\": 26.5, \"1\": 25.48, \"2\": 26.13, \"3\": 26.62, \"4\": 26.04, \"5\": 25.73, \"6\": 25.98, \"7\": 26.4},\n",
    "    \"date\": {\"0\": 1685098800000, \"1\": 1685185200000, \"2\": 1685271600000, \"3\": 1685358000000, \"4\": 1685444400000, \"5\": 1685530800000, \"6\": 1685617200000, \"7\": 1685703600000},\n",
    "    \"main\": {\"0\": \"Rain\", \"1\": \"Rain\", \"2\": \"Rain\", \"3\": \"Rain\", \"4\": \"Rain\", \"5\": \"Rain\", \"6\": \"Rain\", \"7\": \"Rain\"},\n",
    "    \"description\": {\"0\": \"lluvia moderada\", \"1\": \"lluvia ligera\", \"2\": \"lluvia moderada\", \"3\": \"lluvia ligera\", \"4\": \"lluvia moderada\", \"5\": \"lluvia ligera\", \"6\": \"lluvia ligera\", \"7\": \"lluvia ligera\"},\n",
    "    \"icono\": {\"0\": \"10d\", \"1\": \"10d\", \"2\": \"10d\", \"3\": \"10d\", \"4\": \"10d\", \"5\": \"10d\", \"6\": \"10d\", \"7\": \"10d\"},\n",
    "    \"alertPrecip\": {\"0\": \"X\", \"1\": \"-\", \"2\": \"-\", \"3\": \"-\", \"4\": \"-\", \"5\": \"-\", \"6\": \"-\", \"7\": \"-\"},\n",
    "    \"alertAlertas\": {\"0\": \"-\", \"1\": \"-\", \"2\": \"-\", \"3\": \"-\", \"4\": \"-\", \"5\": \"-\", \"6\": \"-\", \"7\": \"-\"},\n",
    "    \"alertVelViento\": {\"0\": \"-\", \"1\": \"-\", \"2\": \"X\", \"3\": \"-\", \"4\": \"-\", \"5\": \"-\", \"6\": \"-\", \"7\": \"-\"},\n",
    "    \"alertTmpMax\": {\"0\": \"-\", \"1\": \"-\", \"2\": \"-\", \"3\": \"-\", \"4\": \"-\", \"5\": \"X\", \"6\": \"-\", \"7\": \"-\"},\n",
    "    \"alertTmpMin\": {\"0\": \"-\", \"1\": \"X\", \"2\": \"-\", \"3\": \"-\", \"4\": \"-\", \"5\": \"-\", \"6\": \"-\", \"7\": \"-\"},\n",
    "    \"recomendaciones\": {\"lluvias\": \"Realice una revisión y limpieza a la red de desague y canales existentes ENTER8 Cuente con una estación de bombeo, que debe estar ubicada en el punto más bajo del predio. Asegúrese de encender y probar el sistema de bombeo al menos una vez al mes y hacer un mantenimiento mensual al equipo de bombeoENTER8 Los productos alojados en zonas de almacenamiento deben mantenerse sobre estibas - estanterías, con el fin de que no entren en contacto directo con el agua.\", \"vientos\": \"-\", \"temperatura\": \"-\"}\n",
    "}\n",
    "'''\n",
    "\n",
    "data = json.loads(jsonString)\n",
    "\n",
    "def convertir_fecha(timestamp): #Funcoin para convertir el timestamp a fecha legible\n",
    "    return datetime.utcfromtimestamp(timestamp).strftime('%Y-%m-%d %H:%M:%S')\n",
    "\n",
    "def revisar_alertas(data): #Funcion para revisar alertas y fechas\n",
    "    alertas = [\n",
    "        ('alertPrecip', 'precipitación', 'prcp'),\n",
    "        ('alertAlertas', 'alerta general', 'weather'),\n",
    "        ('alertVelViento', 'viento', 'velViento'),\n",
    "        ('alertTmpMax', 'temperatura máxima', 'tmpMax'),\n",
    "        ('alertTmpMin', 'temperatura mínima', 'tmpMin')\n",
    "    ]\n",
    "    \n",
    "    for i in range(len(data['dt'])): #Rango que busca las alertas que estan activas\n",
    "        for alerta, tipo, parametro in alertas:\n",
    "            if data[alerta][str(i)] != '-':\n",
    "                fecha = convertir_fecha(data['dt'][str(i)])\n",
    "                valor_alerta = data[alerta][str(i)]\n",
    "                parametro_alerta = data[parametro][str(i)] if parametro in data else \"N/A\"\n",
    "                \n",
    "                print(f\"Fecha: {fecha}, Tipo de alerta: {tipo}, Valor: {valor_alerta}, {parametro}: {parametro_alerta}\")\n",
    "\n",
    "revisar_alertas(data) #Llamamos a la funcion"
   ]
  },
  {
   "cell_type": "markdown",
   "metadata": {},
   "source": [
    "---"
   ]
  },
  {
   "cell_type": "markdown",
   "metadata": {},
   "source": [
    "5. A través de un programa conectese a al menos 3 [API's ](https://apipheny.io/free-api/), obtenga el JSON, imprimalo y extraiga los pares de llave : valor."
   ]
  },
  {
   "cell_type": "code",
   "execution_count": 5,
   "metadata": {},
   "outputs": [
    {
     "name": "stdout",
     "output_type": "stream",
     "text": [
      "{\n",
      "  \"count\": 6172,\n",
      "  \"name\": \"nathaniel\",\n",
      "  \"country\": [\n",
      "    {\n",
      "      \"country_id\": \"NG\",\n",
      "      \"probability\": 0.17632453512718907\n",
      "    },\n",
      "    {\n",
      "      \"country_id\": \"GH\",\n",
      "      \"probability\": 0.08304361297013127\n",
      "    },\n",
      "    {\n",
      "      \"country_id\": \"NE\",\n",
      "      \"probability\": 0.07164615880444838\n",
      "    },\n",
      "    {\n",
      "      \"country_id\": \"US\",\n",
      "      \"probability\": 0.032019319698424385\n",
      "    },\n",
      "    {\n",
      "      \"country_id\": \"ID\",\n",
      "      \"probability\": 0.02637540425400123\n",
      "    }\n",
      "  ]\n",
      "}\n"
     ]
    }
   ],
   "source": [
    "import requests\n",
    "import json\n",
    "\n",
    "# URL de la API\n",
    "url = \"https://api.nationalize.io?name=nathaniel\"\n",
    "\n",
    "# Hacer la solicitud GET\n",
    "response = requests.get(url)\n",
    "\n",
    "# Obtener el JSON\n",
    "data = response.json()\n",
    "\n",
    "# Guardar el JSON en un archivo\n",
    "with open('nationalize_data.json', 'w') as write_file:\n",
    "    json.dump(data, write_file, indent=2)\n",
    "\n",
    "# Imprimir el JSON\n",
    "json_string = json.dumps(data, indent=2)\n",
    "print(json_string)\n"
   ]
  },
  {
   "cell_type": "code",
   "execution_count": 6,
   "metadata": {},
   "outputs": [
    {
     "name": "stdout",
     "output_type": "stream",
     "text": [
      "{\n",
      "  \"type\": \"general\",\n",
      "  \"setup\": \"Why are skeletons so calm?\",\n",
      "  \"punchline\": \"Because nothing gets under their skin.\",\n",
      "  \"id\": 305\n",
      "}\n"
     ]
    }
   ],
   "source": [
    "import requests\n",
    "import json\n",
    "\n",
    "# URL de la API\n",
    "url = \"https://official-joke-api.appspot.com/random_joke\"\n",
    "\n",
    "# Hacer la solicitud GET\n",
    "response = requests.get(url)\n",
    "\n",
    "# Obtener el JSON\n",
    "data = response.json()\n",
    "\n",
    "# Guardar el JSON en un archivo\n",
    "with open('joke_data.json', 'w') as write_file:\n",
    "    json.dump(data, write_file, indent=2)\n",
    "\n",
    "# Imprimir el JSON\n",
    "json_string = json.dumps(data, indent=2)\n",
    "print(json_string)\n"
   ]
  },
  {
   "cell_type": "code",
   "execution_count": 8,
   "metadata": {},
   "outputs": [
    {
     "name": "stdout",
     "output_type": "stream",
     "text": [
      "{\n",
      "  \"post code\": \"33162\",\n",
      "  \"country\": \"United States\",\n",
      "  \"country abbreviation\": \"US\",\n",
      "  \"places\": [\n",
      "    {\n",
      "      \"place name\": \"Miami\",\n",
      "      \"longitude\": \"-80.183\",\n",
      "      \"state\": \"Florida\",\n",
      "      \"state abbreviation\": \"FL\",\n",
      "      \"latitude\": \"25.9286\"\n",
      "    }\n",
      "  ]\n",
      "}\n"
     ]
    }
   ],
   "source": [
    "import requests\n",
    "import json\n",
    "\n",
    "# URL de la API\n",
    "url = \"https://api.zippopotam.us/us/33162\"\n",
    "\n",
    "# Hacer la solicitud GET\n",
    "response = requests.get(url)\n",
    "\n",
    "# Obtener el JSON\n",
    "data = response.json()\n",
    "\n",
    "# Guardar el JSON en un archivo\n",
    "with open('universities_data.json', 'w') as write_file:\n",
    "    json.dump(data, write_file, indent=2)\n",
    "\n",
    "# Imprimir el JSON\n",
    "json_string = json.dumps(data, indent=2)\n",
    "print(json_string)\n"
   ]
  }
 ],
 "metadata": {
  "kernelspec": {
   "display_name": "Python 3",
   "language": "python",
   "name": "python3"
  },
  "language_info": {
   "codemirror_mode": {
    "name": "ipython",
    "version": 3
   },
   "file_extension": ".py",
   "mimetype": "text/x-python",
   "name": "python",
   "nbconvert_exporter": "python",
   "pygments_lexer": "ipython3",
   "version": "3.13.2"
  }
 },
 "nbformat": 4,
 "nbformat_minor": 2
}
